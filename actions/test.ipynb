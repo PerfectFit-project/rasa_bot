{
 "cells": [
  {
   "cell_type": "markdown",
   "metadata": {},
   "source": []
  },
  {
   "cell_type": "code",
   "execution_count": 41,
   "metadata": {},
   "outputs": [
    {
     "name": "stdout",
     "output_type": "stream",
     "text": [
      "Hello\n",
      "[1, 4, 5, 6, 7, 8, 9, 10, 11, 12, 13, 14, 15, 16, 17, 18, 19, 20, 21, 22, 23, 24, 25, 26, 27, 28, 29, 30, 31, 32]\n",
      "21\n",
      "Reflecting on past successes can boost your confidence to become more physically active. Try thinking about when you succeeded in being more physically active. \n",
      "\n",
      "Have you ever taken the bike instead of the car or the stairs instead of the escalator? Every small victory counts! \n",
      "\n",
      "Take a few minutes to type in your list here before moving on. Then take a closer look at your list. Try to think about what helped you to achieve these things. \n",
      "\n",
      "If you want, write down your list on paper so you do not forget it. You can also hang or place your list somewhere in your home, so you are reminded of your successes more often. These successes show that you can be proud of yourself.\n"
     ]
    }
   ],
   "source": [
    "import pandas as pd\n",
    "import random\n",
    "\n",
    "\n",
    "personal_act_df = pd.read_excel(\"PMT_actions_2023_03_24.xlsx\", \n",
    "                       converters={'Number': int, 'Construct':str, 'Gender':str, 'Age':int, 'Content':str})\n",
    "\n",
    "personal_act_ind_list = personal_act_df['Number']\n",
    "\n",
    "personal_ind_list = [1,2,3,4,6,7,8,9]\n",
    "\n",
    "already_done_activities = [3,2]\n",
    "\n",
    "if already_done_activities !=[]:\n",
    "    personal_act_ind_list = [x for x in personal_act_ind_list if x not in set(already_done_activities)]\n",
    "    print(\"Hello\")\n",
    "\n",
    "print(personal_act_ind_list)\n",
    "chosen_ind_activity = random.choice(personal_act_ind_list)\n",
    "print(chosen_ind_activity)\n",
    "\n",
    "print(personal_act_df.loc[ chosen_ind_activity,'Content'])\n"
   ]
  },
  {
   "cell_type": "code",
   "execution_count": null,
   "metadata": {},
   "outputs": [],
   "source": []
  }
 ],
 "metadata": {
  "kernelspec": {
   "display_name": "Python 3",
   "language": "python",
   "name": "python3"
  },
  "language_info": {
   "codemirror_mode": {
    "name": "ipython",
    "version": 3
   },
   "file_extension": ".py",
   "mimetype": "text/x-python",
   "name": "python",
   "nbconvert_exporter": "python",
   "pygments_lexer": "ipython3",
   "version": "3.9.6"
  },
  "orig_nbformat": 4
 },
 "nbformat": 4,
 "nbformat_minor": 2
}
