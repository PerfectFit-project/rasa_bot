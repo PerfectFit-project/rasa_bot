{
 "cells": [
  {
   "cell_type": "markdown",
   "metadata": {},
   "source": []
  },
  {
   "cell_type": "code",
   "execution_count": 4,
   "metadata": {},
   "outputs": [
    {
     "name": "stdout",
     "output_type": "stream",
     "text": [
      "[1.0, 1.1, 1.2, 1.3, 1.4, 1.5, 1.6, 1.7, 2.0, 2.1, 3.0, 3.1, 4.0, 4.1, 5.0, 5.1, 6.0, 7.0, 8.0, 9.0, 11.0, 12.0, 13.0, 14.0, 15.0, 16.0, 16.1, 17.0, 17.1, 18.0, 18.1, 19.0, 20.0, 21.0, 22.0, 23.0, 24.0, 24.1, 24.2, 24.3, 26.0, 27.0, 28.0, 29.0, 29.1, 30.0]\n",
      "[1, 2, 3, 4, 5, 6, 7, 8, 9, 11, 12, 13, 14, 15, 16, 17, 18, 19, 20, 21, 22, 23, 24, 26, 27, 28, 29, 30]\n",
      "[1.2, 1.1, 1.3, 1.4, 1.5, 1.6, 1.7, 2.1, 3.1, 4.1, 5.1, 24.1, 16.1, 17.1, 18.1, 24.3, 24.2, 29.1]\n"
     ]
    }
   ],
   "source": [
    "import pandas as pd\n",
    "import random\n",
    "\n",
    "\n",
    "df_act = pd.read_excel(\"PMT_actions_2023_05_24.xlsx\", \n",
    "                       converters={'Number': float, 'Construct':str, 'Gender':str, 'Age':int, 'User input':bool, 'Media':str, 'Content':str, 'Alternative Content': str})\n",
    "\n",
    "personal_act_ind_list = df_act['Number']\n",
    "\n",
    "all_indices = [int(x) for x in df_act['Number']]\n",
    "index_items_list = [int(x) for x in df_act['Number'] if int(x) == x]       # to print all the main items\n",
    "index_sub_items_list = list(set([x for x in df_act['Number'] if isinstance(x, float)]) - set(index_items_list))\n",
    "\n",
    "print(df_act['Number'].to_list())\n",
    "print(index_items_list)\n",
    "print(index_sub_items_list)\n",
    "\n",
    "#for index, row in df_act.iterrows():\n",
    "\n",
    "#    print(row['Number'])\n",
    "\n",
    "\n"
   ]
  },
  {
   "cell_type": "code",
   "execution_count": 30,
   "metadata": {},
   "outputs": [
    {
     "name": "stdout",
     "output_type": "stream",
     "text": [
      "S\n"
     ]
    }
   ],
   "source": [
    "import random\n",
    "\n",
    "my_list = [15, 5, 18, 2, 3]\n",
    "\n",
    "# Create the label dictionary\n",
    "label_dict = {n: \"S\" if 1 <= n <= 11\n",
    "              else \"V\" if 12 <= n <= 19\n",
    "                else \"V\" if 20 <= n <= 27\n",
    "              else \"RE\" \n",
    "              for n in range(1, 32)}\n",
    "\n",
    "# Count the occurrences of each label\n",
    "count_dict = {label: my_list.count(n) for n, label in label_dict.items()}\n",
    "\n",
    "# Find the item(s) with the least occurrences\n",
    "min_count = min(count_dict.values())\n",
    "min_items = [n for n, count in count_dict.items() if count == min_count]\n",
    "\n",
    "# Randomly select one item from the list of minimum items\n",
    "random_item = random.choice(min_items)\n",
    "print(random_item)\n"
   ]
  },
  {
   "cell_type": "code",
   "execution_count": 2,
   "metadata": {},
   "outputs": [
    {
     "name": "stdout",
     "output_type": "stream",
     "text": [
      "[2, 2, 2, 2, 3, 4, 5, 6, 7, 8, 9, 10, 11, 13, 14, 15, 17, 18, 19, 20]\n",
      "[1, 1, 2, 12, 16]\n",
      "[2, 2, 2, 2, 3, 4, 5, 6, 7, 8, 9, 10, 11, 13, 14, 15, 17, 18, 19, 20, 1, 1, 2, 12, 16]\n",
      "Counter({2: 5, 1: 2, 3: 1, 4: 1, 5: 1, 6: 1, 7: 1, 8: 1, 9: 1, 10: 1, 11: 1, 13: 1, 14: 1, 15: 1, 17: 1, 18: 1, 19: 1, 20: 1, 12: 1, 16: 1})\n"
     ]
    }
   ],
   "source": [
    "import random\n",
    "\n",
    "user_history_list = [1, 2.1, 2.2, 12, 16]\n",
    "personalized_list = [1, 2.1, 2.2, 2.3, 2.4, 2.5, 2.7, 3, 4, 5, 6, 7, 8, 9, 10, 11, 12, 13, 14, 15, 16, 17, 18, 19.1, 20]\n",
    "all_users_history = [1, 1, 2.1, 12, 16]\n",
    "\n",
    "\n",
    "reduced_user_list = [item for item in personalized_list if item not in user_history_list]\n",
    "reduced_user_list_main_items = [int(number) for number in reduced_user_list]\n",
    "all_users_history_main_items = [int(number) for number in all_users_history]\n",
    "merged = reduced_user_list_main_items + all_users_history_main_items\n",
    "\n",
    "print(reduced_user_list_main_items)\n",
    "print(all_users_history_main_items)\n",
    "print(merged)\n",
    "\n",
    "from collections import Counter\n",
    "frequency = Counter(merged)\n",
    "print(frequency)\n"
   ]
  },
  {
   "cell_type": "code",
   "execution_count": 87,
   "metadata": {},
   "outputs": [
    {
     "name": "stdout",
     "output_type": "stream",
     "text": [
      "{'S': [1, 2, 3, 4, 5, 6, 7, 8, 9, 10], 'V': [11, 12, 13, 14, 15, 16, 17, 18], 'SE': [19, 20, 21, 22, 23, 24, 25], 'RE': [26, 27, 28, 29, 30, 31]}\n",
      "{1: ['S', 'S'], 2: ['S']}\n"
     ]
    }
   ],
   "source": [
    "reduced_user_list_main_items = [1,2,3]\n",
    "all_users_history_main_items = [4,5,6,1]\n",
    "\n",
    "labels = {}\n",
    "for i in range(1, 11):\n",
    "    labels[\"S\"] = labels.get(\"S\", []) + [i]\n",
    "for i in range(11, 19):\n",
    "    labels[\"V\"] = labels.get(\"V\", []) + [i]\n",
    "for i in range(19, 26):\n",
    "    labels[\"SE\"] = labels.get(\"SE\", []) + [i]\n",
    "for i in range(26, 32):\n",
    "    labels[\"RE\"] = labels.get(\"RE\", []) + [i]\n",
    "\n",
    "print(labels)\n",
    "# merge the two lists and assign labels to each value\n",
    "merged = {}\n",
    "for val in [1, 1, 2]:\n",
    "    for key in labels:\n",
    "        if val in labels[key]:\n",
    "            if val in merged:\n",
    "                merged[val].append(key)\n",
    "            else:\n",
    "                merged[val] = [key]\n",
    "\n",
    "print(merged)"
   ]
  },
  {
   "cell_type": "code",
   "execution_count": 100,
   "metadata": {},
   "outputs": [
    {
     "name": "stdout",
     "output_type": "stream",
     "text": [
      "Counter({'RE': 32, 'S': 11, 'SE': 11})\n",
      "V\n"
     ]
    }
   ],
   "source": [
    "from collections import Counter\n",
    "\n",
    "all_users_history = [29, 29, 26, 30, 30, 29, 27, 27, 27, 1, 1, 1, 1, 1, 6, 24, 24, 24, 24, 24, 24, 1, 24, 24, 24, 24, 24, 1, 1, 1, 1, 27, 30, 27, 27, 29, 28, 28, 28, 30, 29, 29, 27, 26, 26, 28, 26, 30, 28, 26, 28, 30, 26, 30]\n",
    "\n",
    "# Define the labels and their corresponding value ranges\n",
    "label_ranges = {'S': range(1, 11), 'V': range(11, 19), 'SE': range(19, 26), 'RE': range(26, 31)}\n",
    "\n",
    "# Assign labels to the items in the list\n",
    "labels = [next((label for label, value_range in label_ranges.items() if item in value_range), None) for item in all_users_history]\n",
    "\n",
    "# Count the frequency of each label\n",
    "label_counts = Counter(labels)\n",
    "print(label_counts)\n",
    "\n",
    "# Include labels with zero frequency\n",
    "all_labels = list(label_ranges.keys())\n",
    "label_counts = {label: label_counts[label] if label in label_counts else 0 for label in all_labels}\n",
    "\n",
    "# Choose the label with the minimum frequency\n",
    "min_frequency_label = min(label_counts, key=label_counts.get)\n",
    "\n",
    "print(min_frequency_label)\n"
   ]
  },
  {
   "cell_type": "code",
   "execution_count": 166,
   "metadata": {},
   "outputs": [
    {
     "name": "stdout",
     "output_type": "stream",
     "text": [
      "Counter({'RE': 32, 'S': 11, 'SE': 11})\n",
      "V\n"
     ]
    }
   ],
   "source": [
    "from collections import Counter\n",
    "import random\n",
    "\n",
    "all_users_history = [29, 29, 26, 30, 30, 29, 27, 27, 27, 1, 1, 1, 1, 1, 6, 24, 24, 24, 24, 24, 24, 1, 24, 24, 24, 24, 24, 1, 1, 1, 1, 27, 30, 27, 27, 29, 28, 28, 28, 30, 29, 29, 27, 26, 26, 28, 26, 30, 28, 26, 28, 30, 26, 30]\n",
    "all_users_history_main_items = [int(number) for number in all_users_history]\n",
    "# Define the labels and their corresponding value ranges\n",
    "label_ranges = {'S': range(1, 11), 'V': range(11, 19), 'SE': range(19, 26), 'RE': range(26, 31)}\n",
    "\n",
    "# Assign labels to the items in the list\n",
    "labels = [next((label for label, value_range in label_ranges.items() if item in value_range), None) for item in all_users_history]\n",
    "\n",
    "# Count the frequency of each label\n",
    "label_counts = Counter(labels)\n",
    "print(label_counts)\n",
    "\n",
    "# Get the frequency of the labels\n",
    "frequencies = list(label_counts.values())\n",
    "\n",
    "# If the history is empty\n",
    "if (frequencies == []):\n",
    "    chosen_label = random.choice([\"S\",\"V\",\"SE\",\"RE\"])\n",
    "\n",
    "# Check if all frequencies are the same\n",
    "if len(set(frequencies)) == 1 and len(frequencies) == 4:\n",
    "    # Randomly choose one of the labels\n",
    "    chosen_label = random.choice(list(label_ranges.keys()))\n",
    "else:\n",
    "    # Include labels with zero frequency\n",
    "    all_labels = list(label_ranges.keys())\n",
    "    label_counts = {label: label_counts[label] if label in label_counts else 0 for label in all_labels}\n",
    "\n",
    "    min_frequency = min(label_counts.values())\n",
    "    min_frequency_labels = [label for label, count in label_counts.items() if count == min_frequency]\n",
    "\n",
    "    # Choose a label randomly if all labels have the same frequency\n",
    "    chosen_label = random.choice(min_frequency_labels)\n",
    "\n",
    "print(chosen_label)\n",
    "\n"
   ]
  },
  {
   "cell_type": "code",
   "execution_count": 24,
   "metadata": {},
   "outputs": [
    {
     "name": "stdout",
     "output_type": "stream",
     "text": [
      "[1.2, 1.3]\n",
      "1.2\n"
     ]
    }
   ],
   "source": [
    "personalized_list = [1.1,1.2,1.3,3,8,9,12,16]\n",
    "user_history_list = [1.1,3,12]\n",
    "\n",
    "new_p_list = [x for x in personalized_list if x not in user_history_list]\n",
    "\n",
    "labels = []\n",
    "for value in new_p_list:\n",
    "    if 1 <= int(value) <= 5:\n",
    "        labels.append(\"S\")\n",
    "    elif 5 < int(value) <= 10:\n",
    "        labels.append(\"V\")\n",
    "    elif 10 < int(value) <= 15:\n",
    "        labels.append(\"SE\")\n",
    "    elif 15 < int(value) <= 20:\n",
    "        labels.append(\"RE\")\n",
    "    else:\n",
    "        labels.append(None)\n",
    "\n",
    "# Create a list of values that have the label \"RE\"\n",
    "re_values = [value for value, label in zip(new_p_list, labels) if label == \"S\"]\n",
    "print(re_values)\n",
    "print(random.choice(re_values))"
   ]
  },
  {
   "cell_type": "code",
   "execution_count": 4,
   "metadata": {},
   "outputs": [
    {
     "name": "stdout",
     "output_type": "stream",
     "text": [
      "{1: ['S', 'S'], 3: ['S'], 10: ['SE'], 11: ['SE'], 16: ['RE']}\n",
      "[{1: 2}, {3: 1}, {10: 1}, {11: 1}, {16: 1}]\n"
     ]
    }
   ],
   "source": [
    "import random\n",
    "\n",
    "personalized_list = [1.1,1.2,1.3,3,8,9,12,16]\n",
    "user_history_list = [1.1,3,12]\n",
    "all_users_history = [1.1,1.2,3,10,11,16]\n",
    "\n",
    "\n",
    "reduced_user_list = [item for item in personalized_list if item not in user_history_list]\n",
    "reduced_user_list_main_items = [int(number) for number in reduced_user_list]\n",
    "all_users_history_main_items = [int(number) for number in all_users_history]\n",
    "\n",
    "labels = {}\n",
    "for i in range(1, 5):\n",
    "    labels[\"S\"] = labels.get(\"S\", []) + [i]\n",
    "for i in range(5, 10):\n",
    "    labels[\"V\"] = labels.get(\"V\", []) + [i]\n",
    "for i in range(10, 15):\n",
    "    labels[\"SE\"] = labels.get(\"SE\", []) + [i]\n",
    "for i in range(15, 20):\n",
    "    labels[\"RE\"] = labels.get(\"RE\", []) + [i]\n",
    "\n",
    "# assign labels to each value\n",
    "merged = {}\n",
    "for val in all_users_history_main_items:\n",
    "    for key in labels:\n",
    "        if val in labels[key]:\n",
    "            if val in merged:\n",
    "                merged[val].append(key)\n",
    "            else:\n",
    "                merged[val] = [key]\n",
    "\n",
    "print(merged)\n",
    "\n",
    "# count the frequency of each label\n",
    "new_list = [{key: len(values)} for key, values in merged.items()]\n",
    "print(new_list)\n",
    "\n",
    "\n",
    "\n",
    "\n",
    "\n",
    "#print(chosen_label)\n",
    "# get the possible values for the chosen label\n",
    "#possible_values = [val for val in merged if merged[val] == chosen_label]\n",
    "\n",
    "#print(possible_values)"
   ]
  },
  {
   "cell_type": "code",
   "execution_count": 50,
   "metadata": {},
   "outputs": [
    {
     "name": "stdout",
     "output_type": "stream",
     "text": [
      "26\n"
     ]
    }
   ],
   "source": [
    "from collections import Counter\n",
    "import random\n",
    "\n",
    "least_freq_list = [26, 27, 28, 29, 30]\n",
    "all_user_history = [29, 29, 26, 30, 30, 29, 27, 27, 27, 1, 1, 1, 1, 1, 6, 24, 24, 24, 24, 24, 24, 1, 24, 24, 24, 24, 24, 1, 1, 1, 1, 27, 30, 27, 27, 29, 28, 28, 28, 30, 29, 29, 27, 26]\n",
    "\n",
    "merged_list = least_freq_list + [item for item in all_user_history if item in least_freq_list]\n",
    "\n",
    "frequency_counter = Counter(merged_list)\n",
    "\n",
    "least_frequent_items = [item for item, frequency in frequency_counter.items() if frequency == min(frequency_counter.values())]\n",
    "\n",
    "\n",
    "gg = random.choice(least_frequent_items)\n",
    "print(gg)\n",
    "\n"
   ]
  },
  {
   "cell_type": "code",
   "execution_count": 18,
   "metadata": {},
   "outputs": [
    {
     "name": "stdout",
     "output_type": "stream",
     "text": [
      "[1, 2, 3, 4, 5, 6, 7, 8, 9, 11, 12, 13, 14, 15, 16, 17, 18, 19, 20, 21, 22, 23, 24, 26, 27, 28, 29, 30]\n"
     ]
    }
   ],
   "source": [
    "df_act = pd.read_excel(\"PMT_actions_2023_05_24.xlsx\", \n",
    "                       converters={'Number': float, 'Construct':str, 'Gender':str, 'Age':int, 'User input':bool, 'Media':str, 'Content':str, 'Alternative Content': str})\n",
    "\n",
    "personal_act_ind_list = df_act['Number']\n",
    "\n",
    "personal_act_ind_list = [int(x) for x in personal_act_ind_list if int(x) == x]\n",
    "print(personal_act_ind_list)"
   ]
  },
  {
   "cell_type": "code",
   "execution_count": 21,
   "metadata": {},
   "outputs": [
    {
     "name": "stdout",
     "output_type": "stream",
     "text": [
      "[1, 2, 3, 4, 5, 6, 7, 8, 9, 13, 14, 15, 16, 17, 19, 20, 21, 22, 23, 24, 26, 27, 28, 29, 30]\n"
     ]
    }
   ],
   "source": [
    "df_act_copy = df_act.copy(True)\n",
    "\n",
    "age_group = 49\n",
    "gender = 0 #male\n",
    "\n",
    "for index, row in df_act_copy.iterrows():\n",
    "    # delete rows that are of opposite gender\n",
    "    if (row['Gender'] == 'female' and gender != 1) or (row['Gender'] == 'male' and gender != 0):     \n",
    "        df_act_copy.drop(index, inplace=True)\n",
    "\n",
    "     # delete rows that are of a different age range (50-60 only)\n",
    "    if (row['Age']) == '50' and (age_group != 59):     \n",
    "        df_act_copy.drop(index, inplace=True)\n",
    "\n",
    "    # delete rows that are of a different age range (40-49 only)\n",
    "    if (row['Age']) == '40' and (age_group != 49):     \n",
    "        df_act_copy.drop(index, inplace=True)\n",
    "\n",
    "    # delete rows that are of a different age range (39++ only)\n",
    "    if (row['Age']) == '30' and (age_group != 39):     \n",
    "        df_act_copy.drop(index, inplace=True)\n",
    "\n",
    "personal_act_ind_list = df_act_copy['Number']\n",
    "\n",
    "personal_act_ind_list = [int(x) for x in personal_act_ind_list if int(x) == x]\n",
    "print(personal_act_ind_list)"
   ]
  },
  {
   "cell_type": "code",
   "execution_count": 90,
   "metadata": {},
   "outputs": [
    {
     "name": "stdout",
     "output_type": "stream",
     "text": [
      "Can you estimate how many deaths per year worldwide are caused by tobacco use?\n"
     ]
    }
   ],
   "source": [
    "text_content = df_act.loc[df_act['Number'] == 2, 'Content'].values[0]\n",
    "\n",
    "ff = str(text_content).split(\"\\n\")\n",
    "print(ff[0])   "
   ]
  },
  {
   "cell_type": "code",
   "execution_count": 77,
   "metadata": {},
   "outputs": [
    {
     "ename": "KeyError",
     "evalue": "0",
     "output_type": "error",
     "traceback": [
      "\u001b[0;31m---------------------------------------------------------------------------\u001b[0m",
      "\u001b[0;31mKeyError\u001b[0m                                  Traceback (most recent call last)",
      "File \u001b[0;32m~/rasa_pmt_bot/botvenv/lib/python3.9/site-packages/pandas/core/indexes/base.py:3652\u001b[0m, in \u001b[0;36mIndex.get_loc\u001b[0;34m(self, key)\u001b[0m\n\u001b[1;32m   3651\u001b[0m \u001b[39mtry\u001b[39;00m:\n\u001b[0;32m-> 3652\u001b[0m     \u001b[39mreturn\u001b[39;00m \u001b[39mself\u001b[39;49m\u001b[39m.\u001b[39;49m_engine\u001b[39m.\u001b[39;49mget_loc(casted_key)\n\u001b[1;32m   3653\u001b[0m \u001b[39mexcept\u001b[39;00m \u001b[39mKeyError\u001b[39;00m \u001b[39mas\u001b[39;00m err:\n",
      "File \u001b[0;32m~/rasa_pmt_bot/botvenv/lib/python3.9/site-packages/pandas/_libs/index.pyx:147\u001b[0m, in \u001b[0;36mpandas._libs.index.IndexEngine.get_loc\u001b[0;34m()\u001b[0m\n",
      "File \u001b[0;32m~/rasa_pmt_bot/botvenv/lib/python3.9/site-packages/pandas/_libs/index.pyx:176\u001b[0m, in \u001b[0;36mpandas._libs.index.IndexEngine.get_loc\u001b[0;34m()\u001b[0m\n",
      "File \u001b[0;32mpandas/_libs/hashtable_class_helper.pxi:2606\u001b[0m, in \u001b[0;36mpandas._libs.hashtable.Int64HashTable.get_item\u001b[0;34m()\u001b[0m\n",
      "File \u001b[0;32mpandas/_libs/hashtable_class_helper.pxi:2630\u001b[0m, in \u001b[0;36mpandas._libs.hashtable.Int64HashTable.get_item\u001b[0;34m()\u001b[0m\n",
      "\u001b[0;31mKeyError\u001b[0m: 0",
      "\nThe above exception was the direct cause of the following exception:\n",
      "\u001b[0;31mKeyError\u001b[0m                                  Traceback (most recent call last)",
      "Cell \u001b[0;32mIn[77], line 5\u001b[0m\n\u001b[1;32m      1\u001b[0m \u001b[39m#text_content = df_act.loc[ 28,'Content'].split(\"\\n\")\u001b[39;00m\n\u001b[1;32m      2\u001b[0m \u001b[39m#df_act['Content'] = df_act['Content'].astype(str)\u001b[39;00m\n\u001b[1;32m      3\u001b[0m \u001b[39m#text_content2 = df_act.loc[df_act['Number'] == 6,'Content'].values[0].split(\"\\n\")\u001b[39;00m\n\u001b[0;32m----> 5\u001b[0m text_content \u001b[39m=\u001b[39m df_act\u001b[39m.\u001b[39;49mloc[df_act[\u001b[39m'\u001b[39;49m\u001b[39mNumber\u001b[39;49m\u001b[39m'\u001b[39;49m] \u001b[39m==\u001b[39;49m \u001b[39m2\u001b[39;49m, \u001b[39m'\u001b[39;49m\u001b[39mContent\u001b[39;49m\u001b[39m'\u001b[39;49m][\u001b[39m0\u001b[39;49m]\n\u001b[1;32m      7\u001b[0m \u001b[39mprint\u001b[39m(\u001b[39mtype\u001b[39m(text_content))\n\u001b[1;32m      8\u001b[0m df \u001b[39m=\u001b[39m text_content[\u001b[39m2\u001b[39m]\u001b[39m.\u001b[39msplit(\u001b[39m\"\u001b[39m\u001b[39m;\u001b[39m\u001b[39m\"\u001b[39m)\n",
      "File \u001b[0;32m~/rasa_pmt_bot/botvenv/lib/python3.9/site-packages/pandas/core/series.py:1012\u001b[0m, in \u001b[0;36mSeries.__getitem__\u001b[0;34m(self, key)\u001b[0m\n\u001b[1;32m   1009\u001b[0m     \u001b[39mreturn\u001b[39;00m \u001b[39mself\u001b[39m\u001b[39m.\u001b[39m_values[key]\n\u001b[1;32m   1011\u001b[0m \u001b[39melif\u001b[39;00m key_is_scalar:\n\u001b[0;32m-> 1012\u001b[0m     \u001b[39mreturn\u001b[39;00m \u001b[39mself\u001b[39;49m\u001b[39m.\u001b[39;49m_get_value(key)\n\u001b[1;32m   1014\u001b[0m \u001b[39mif\u001b[39;00m is_hashable(key):\n\u001b[1;32m   1015\u001b[0m     \u001b[39m# Otherwise index.get_value will raise InvalidIndexError\u001b[39;00m\n\u001b[1;32m   1016\u001b[0m     \u001b[39mtry\u001b[39;00m:\n\u001b[1;32m   1017\u001b[0m         \u001b[39m# For labels that don't resolve as scalars like tuples and frozensets\u001b[39;00m\n",
      "File \u001b[0;32m~/rasa_pmt_bot/botvenv/lib/python3.9/site-packages/pandas/core/series.py:1121\u001b[0m, in \u001b[0;36mSeries._get_value\u001b[0;34m(self, label, takeable)\u001b[0m\n\u001b[1;32m   1118\u001b[0m     \u001b[39mreturn\u001b[39;00m \u001b[39mself\u001b[39m\u001b[39m.\u001b[39m_values[label]\n\u001b[1;32m   1120\u001b[0m \u001b[39m# Similar to Index.get_value, but we do not fall back to positional\u001b[39;00m\n\u001b[0;32m-> 1121\u001b[0m loc \u001b[39m=\u001b[39m \u001b[39mself\u001b[39;49m\u001b[39m.\u001b[39;49mindex\u001b[39m.\u001b[39;49mget_loc(label)\n\u001b[1;32m   1123\u001b[0m \u001b[39mif\u001b[39;00m is_integer(loc):\n\u001b[1;32m   1124\u001b[0m     \u001b[39mreturn\u001b[39;00m \u001b[39mself\u001b[39m\u001b[39m.\u001b[39m_values[loc]\n",
      "File \u001b[0;32m~/rasa_pmt_bot/botvenv/lib/python3.9/site-packages/pandas/core/indexes/base.py:3654\u001b[0m, in \u001b[0;36mIndex.get_loc\u001b[0;34m(self, key)\u001b[0m\n\u001b[1;32m   3652\u001b[0m     \u001b[39mreturn\u001b[39;00m \u001b[39mself\u001b[39m\u001b[39m.\u001b[39m_engine\u001b[39m.\u001b[39mget_loc(casted_key)\n\u001b[1;32m   3653\u001b[0m \u001b[39mexcept\u001b[39;00m \u001b[39mKeyError\u001b[39;00m \u001b[39mas\u001b[39;00m err:\n\u001b[0;32m-> 3654\u001b[0m     \u001b[39mraise\u001b[39;00m \u001b[39mKeyError\u001b[39;00m(key) \u001b[39mfrom\u001b[39;00m \u001b[39merr\u001b[39;00m\n\u001b[1;32m   3655\u001b[0m \u001b[39mexcept\u001b[39;00m \u001b[39mTypeError\u001b[39;00m:\n\u001b[1;32m   3656\u001b[0m     \u001b[39m# If we have a listlike key, _check_indexing_error will raise\u001b[39;00m\n\u001b[1;32m   3657\u001b[0m     \u001b[39m#  InvalidIndexError. Otherwise we fall through and re-raise\u001b[39;00m\n\u001b[1;32m   3658\u001b[0m     \u001b[39m#  the TypeError.\u001b[39;00m\n\u001b[1;32m   3659\u001b[0m     \u001b[39mself\u001b[39m\u001b[39m.\u001b[39m_check_indexing_error(key)\n",
      "\u001b[0;31mKeyError\u001b[0m: 0"
     ]
    }
   ],
   "source": [
    "\n",
    "#text_content = df_act.loc[ 28,'Content'].split(\"\\n\")\n",
    "#df_act['Content'] = df_act['Content'].astype(str)\n",
    "#text_content2 = df_act.loc[df_act['Number'] == 6,'Content'].values[0].split(\"\\n\")\n",
    "\n",
    "text_content = df_act.loc[df_act['Number'] == 2, 'Content'].values[0]\n",
    "\n",
    "print(text_content)\n",
    "df = text_content[2].split(\";\")\n",
    "\n",
    "buttons = []\n",
    "for answer in df:\n",
    "        btn = {'\"title\":' + answer + ', \"payload\": \"/option1\"'}\n",
    "\n",
    "        buttons.append(btn)\n",
    "\n",
    "print(buttons)"
   ]
  },
  {
   "cell_type": "code",
   "execution_count": 71,
   "metadata": {},
   "outputs": [
    {
     "name": "stdout",
     "output_type": "stream",
     "text": [
      "[1.0, 1.1, 1.2, 1.3, 1.4, 1.5, 1.6, 1.7, 2.0, 2.1, 3.0, 3.1, 4.0, 4.1, 5.0, 5.1, 6.0, 7.0, 8.0, 9.0, 10.0, 11.0, 12.0, 13.0, 14.0, 15.0, 16.0, 16.1, 17.0, 17.1, 18.0, 18.1, 19.0, 20.0, 21.0, 22.0, 23.0, 24.0, 24.1, 24.2, 24.3, 25.0, 26.0, 27.0, 28.0, 29.0, 29.1, 30.0, 30.1, 31.0, 31.1]\n",
      "1.5\n"
     ]
    }
   ],
   "source": [
    "import random\n",
    "\n",
    "activity_chosen_index = 1\n",
    "matches = []\n",
    "\n",
    "print (df_act['Number'].to_list())\n",
    "\n",
    "for num in df_act['Number'].to_list():\n",
    "    if int(num) == activity_chosen_index and num != activity_chosen_index:\n",
    "        matches.append(num)\n",
    "\n",
    "if matches:\n",
    "    selected_sub_activity_index = random.choice(matches)\n",
    "    print(selected_sub_activity_index)\n",
    "else:\n",
    "    print(activity_chosen_index)\n",
    "\n",
    "\n",
    "text_content = str(df_act.loc[df_act['Number'] == 28, 'Content'].values[0])\n",
    "\n"
   ]
  },
  {
   "cell_type": "code",
   "execution_count": 20,
   "metadata": {},
   "outputs": [
    {
     "name": "stdout",
     "output_type": "stream",
     "text": [
      "---------------\n",
      "w many deaths per year worldwide are caused by tobacco use?\n",
      "10%\n",
      "25%\n",
      "40%\n"
     ]
    }
   ],
   "source": [
    "text_content = \"w many deaths per year worldwide are caused by tobacco use?\\n10%;25%;40%\"\n",
    "\n",
    "split_text = text_content.split('\\n')\n",
    "for line in split_text[:-2]:\n",
    "    print(line)\n",
    "    print(\"\\n\")\n",
    "\n",
    "print(\"---------------\")\n",
    "if split_text[-2]:\n",
    "    print(split_text[-2])\n",
    "else:\n",
    "    print(split_text[-1])\n",
    "# Splitting the string with ';' and printing each part\n",
    "question = split_text[-1]\n",
    "options = question.split(';')\n",
    "for option in options:\n",
    "    print(option)\n",
    "\n"
   ]
  },
  {
   "cell_type": "code",
   "execution_count": 28,
   "metadata": {},
   "outputs": [
    {
     "name": "stdout",
     "output_type": "stream",
     "text": [
      "false\n"
     ]
    }
   ],
   "source": [
    "text = \"cycjjjling\"\n",
    "if text == \"running\" or text == \"cycling\":\n",
    "    print(\"yes\")\n",
    "else:\n",
    "    print(\"false\")\n"
   ]
  },
  {
   "cell_type": "code",
   "execution_count": 3,
   "metadata": {},
   "outputs": [
    {
     "name": "stdout",
     "output_type": "stream",
     "text": [
      "<class 'datetime.datetime'>\n",
      "-1 day, 21:53:25.089562\n"
     ]
    }
   ],
   "source": [
    "from datetime import datetime\n",
    "\n",
    "start_time = '2023-06-16 09:43:16'\n",
    "\n",
    "datetime_object = datetime.strptime(start_time, \"%Y-%m-%d %H:%M:%S\")\n",
    "\n",
    "now = datetime.now()\n",
    "\n",
    "duration = datetime_object - now\n",
    "\n",
    "print(type(datetime_object))\n",
    "print(duration)  # printed in default format"
   ]
  }
 ],
 "metadata": {
  "kernelspec": {
   "display_name": "Python 3",
   "language": "python",
   "name": "python3"
  },
  "language_info": {
   "codemirror_mode": {
    "name": "ipython",
    "version": 3
   },
   "file_extension": ".py",
   "mimetype": "text/x-python",
   "name": "python",
   "nbconvert_exporter": "python",
   "pygments_lexer": "ipython3",
   "version": "3.9.6"
  },
  "orig_nbformat": 4
 },
 "nbformat": 4,
 "nbformat_minor": 2
}
